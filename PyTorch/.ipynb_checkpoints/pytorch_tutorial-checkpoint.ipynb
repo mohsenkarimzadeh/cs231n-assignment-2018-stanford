{
 "cells": [
  {
   "cell_type": "code",
   "execution_count": 1,
   "metadata": {},
   "outputs": [],
   "source": [
    "%matplotlib inline"
   ]
  },
  {
   "cell_type": "markdown",
   "metadata": {},
   "source": [
    "\n",
    "Training an MNIST Classifier\n",
    "=====\n",
    "## Custom Dataset, Model Checkpointing, and Fine-tune"
   ]
  },
  {
   "cell_type": "code",
   "execution_count": 2,
   "metadata": {},
   "outputs": [],
   "source": [
    "import torch\n",
    "import torch.nn as nn\n",
    "import torch.optim as optim\n",
    "import torch.nn.functional as F\n",
    "import torchvision\n",
    "import torchvision.transforms as transforms\n",
    "from torch.utils.data import Dataset, DataLoader\n",
    "import glob\n",
    "import os.path as osp\n",
    "import numpy as np\n",
    "from PIL import Image"
   ]
  },
  {
   "cell_type": "markdown",
   "metadata": {},
   "source": [
    "## 1. Custom Dataset\n",
    "PyTorch has many built-in datasets such as MNIST and CIFAR. In this tutorial, we demonstrate how to write your own dataset by implementing a custom MNIST dataset class. Use [this link](https://github.com/myleott/mnist_png/blob/master/mnist_png.tar.gz?raw=true) to download the mnist png dataset."
   ]
  },
  {
   "cell_type": "code",
   "execution_count": 3,
   "metadata": {},
   "outputs": [],
   "source": [
    "class MNIST(Dataset):\n",
    "    \"\"\"\n",
    "    A customized data loader for MNIST.\n",
    "    \"\"\"\n",
    "    def __init__(self,\n",
    "                 root,\n",
    "                 transform=None,\n",
    "                 preload=False):\n",
    "        \"\"\" Intialize the MNIST dataset\n",
    "        \n",
    "        Args:\n",
    "            - root: root directory of the dataset\n",
    "            - tranform: a custom tranform function\n",
    "            - preload: if preload the dataset into memory\n",
    "        \"\"\"\n",
    "        self.images = None\n",
    "        self.labels = None\n",
    "        self.filenames = []\n",
    "        self.root = root\n",
    "        self.transform = transform\n",
    "\n",
    "        # read filenames\n",
    "        for i in range(10):\n",
    "            filenames = glob.glob(osp.join(root, str(i), '*.png'))\n",
    "            for fn in filenames:\n",
    "                self.filenames.append((fn, i)) # (filename, label) pair\n",
    "                \n",
    "        # if preload dataset into memory\n",
    "        if preload:\n",
    "            self._preload()\n",
    "            \n",
    "        self.len = len(self.filenames)\n",
    "                              \n",
    "    def _preload(self):\n",
    "        \"\"\"\n",
    "        Preload dataset to memory\n",
    "        \"\"\"\n",
    "        self.labels = []\n",
    "        self.images = []\n",
    "        for image_fn, label in self.filenames:            \n",
    "            # load images\n",
    "            image = Image.open(image_fn)\n",
    "            # avoid too many opened files bug\n",
    "            self.images.append(image.copy())\n",
    "            image.close()\n",
    "            self.labels.append(label)\n",
    "\n",
    "    def __getitem__(self, index):\n",
    "        \"\"\" Get a sample from the dataset\n",
    "        \"\"\"\n",
    "        if self.images is not None:\n",
    "            # If dataset is preloaded\n",
    "            image = self.images[index]\n",
    "            label = self.labels[index]\n",
    "        else:\n",
    "            # If on-demand data loading\n",
    "            image_fn, label = self.filenames[index]\n",
    "            image = Image.open(image_fn)\n",
    "            \n",
    "        # May use transform function to transform samples\n",
    "        # e.g., random crop, whitening\n",
    "        if self.transform is not None:\n",
    "            image = self.transform(image)\n",
    "        # return image and label\n",
    "        return image, label\n",
    "\n",
    "    def __len__(self):\n",
    "        \"\"\"\n",
    "        Total number of samples in the dataset\n",
    "        \"\"\"\n",
    "        return self.len"
   ]
  },
  {
   "cell_type": "code",
   "execution_count": 4,
   "metadata": {},
   "outputs": [],
   "source": [
    "# Create the MNIST dataset. \n",
    "# transforms.ToTensor() automatically converts PIL images to\n",
    "# torch tensors with range [0, 1]\n",
    "trainset = MNIST(\n",
    "    root='/Users/mohsenkiskani/Downloads/mnist_png/training',\n",
    "    preload=True, transform=transforms.ToTensor(),\n",
    ")\n",
    "# Use the torch dataloader to iterate through the dataset\n",
    "trainset_loader = DataLoader(trainset, batch_size=64, shuffle=True, num_workers=1)\n",
    "\n",
    "# load the testset\n",
    "testset = MNIST(\n",
    "    root='/Users/mohsenkiskani/Downloads/mnist_png/testing',\n",
    "    preload=True, transform=transforms.ToTensor(),\n",
    ")\n",
    "# Use the torch dataloader to iterate through the dataset\n",
    "testset_loader = DataLoader(testset, batch_size=1000, shuffle=False, num_workers=1)"
   ]
  },
  {
   "cell_type": "code",
   "execution_count": 5,
   "metadata": {},
   "outputs": [
    {
     "name": "stdout",
     "output_type": "stream",
     "text": [
      "60000\n",
      "10000\n"
     ]
    }
   ],
   "source": [
    "print(len(trainset))\n",
    "print(len(testset))"
   ]
  },
  {
   "cell_type": "markdown",
   "metadata": {},
   "source": [
    "### Visualize the dataset"
   ]
  },
  {
   "cell_type": "code",
   "execution_count": 6,
   "metadata": {},
   "outputs": [
    {
     "name": "stdout",
     "output_type": "stream",
     "text": [
      "tensor(9) tensor(9) tensor(0) tensor(0) tensor(2) tensor(3) tensor(2) tensor(2) tensor(6) tensor(3) tensor(7) tensor(0) tensor(3) tensor(7) tensor(3) tensor(9)\n"
     ]
    },
    {
     "data": {
      "image/png": "[encoded data removed]",
      "text/plain": [
       "<matplotlib.figure.Figure at 0x11f2d82e8>"
      ]
     },
     "metadata": {},
     "output_type": "display_data"
    }
   ],
   "source": [
    "import matplotlib.pyplot as plt\n",
    "import numpy as np\n",
    "\n",
    "# functions to show an image\n",
    "def imshow(img):\n",
    "    npimg = img.numpy()\n",
    "    plt.imshow(np.transpose(npimg, (1, 2, 0)))\n",
    "\n",
    "# get some random training images\n",
    "dataiter = iter(trainset_loader)\n",
    "images, labels = dataiter.next()\n",
    "\n",
    "# show images\n",
    "imshow(torchvision.utils.make_grid(images))\n",
    "# print labels\n",
    "print(' '.join('%5s' % labels[j] for j in range(16)))"
   ]
  },
  {
   "cell_type": "code",
   "execution_count": 7,
   "metadata": {},
   "outputs": [
    {
     "name": "stdout",
     "output_type": "stream",
     "text": [
      "cpu\n"
     ]
    }
   ],
   "source": [
    "# Use GPU if available, otherwise stick with cpu\n",
    "use_cuda = torch.cuda.is_available()\n",
    "torch.manual_seed(123)\n",
    "device = torch.device(cuda if use_cuda else \"cpu\")\n",
    "print(device)"
   ]
  },
  {
   "cell_type": "markdown",
   "metadata": {},
   "source": [
    "### Define a Conv Net\n"
   ]
  },
  {
   "cell_type": "code",
   "execution_count": 8,
   "metadata": {},
   "outputs": [],
   "source": [
    "class Net(nn.Module):\n",
    "    def __init__(self):\n",
    "        super(Net, self).__init__()\n",
    "        self.conv1 = nn.Conv2d(1, 10, kernel_size=5)\n",
    "        self.conv2 = nn.Conv2d(10, 20, kernel_size=5)\n",
    "        self.conv2_drop = nn.Dropout2d()\n",
    "        self.fc1 = nn.Linear(320, 50)\n",
    "        self.fc2 = nn.Linear(50, 10)\n",
    "\n",
    "    def forward(self, x):\n",
    "        x = F.relu(F.max_pool2d(self.conv1(x), 2))\n",
    "        x = F.relu(F.max_pool2d(self.conv2_drop(self.conv2(x)), 2))\n",
    "        x = x.view(-1, 320)\n",
    "        x = F.relu(self.fc1(x))\n",
    "        x = F.dropout(x, training=self.training)\n",
    "        x = self.fc2(x)\n",
    "        return F.log_softmax(x, dim=1)\n",
    "\n",
    "model = Net().to(device)\n",
    "optimizer = optim.SGD(model.parameters(), lr=0.001, momentum=0.9)"
   ]
  },
  {
   "cell_type": "markdown",
   "metadata": {},
   "source": [
    "### Train the network"
   ]
  },
  {
   "cell_type": "code",
   "execution_count": 9,
   "metadata": {},
   "outputs": [],
   "source": [
    "def train(epoch, log_interval=100):\n",
    "    model.train()  # set training mode\n",
    "    iteration = 0\n",
    "    for ep in range(epoch):\n",
    "        for batch_idx, (data, target) in enumerate(trainset_loader):\n",
    "            data, target = data.to(device), target.to(device)\n",
    "            optimizer.zero_grad()\n",
    "            output = model(data)\n",
    "            loss = F.nll_loss(output, target)\n",
    "            loss.backward()\n",
    "            optimizer.step()\n",
    "            if iteration % log_interval == 0:\n",
    "                print('Train Epoch: {} [{}/{} ({:.0f}%)]\\tLoss: {:.6f}'.format(\n",
    "                    ep, batch_idx * len(data), len(trainset_loader.dataset),\n",
    "                    100. * batch_idx / len(trainset_loader), loss.item()))\n",
    "            iteration += 1\n",
    "        test()"
   ]
  },
  {
   "cell_type": "code",
   "execution_count": 10,
   "metadata": {},
   "outputs": [],
   "source": [
    "def test():\n",
    "    model.eval()  # set evaluation mode\n",
    "    test_loss = 0\n",
    "    correct = 0\n",
    "    with torch.no_grad():\n",
    "        for data, target in testset_loader:\n",
    "            data, target = data.to(device), target.to(device)\n",
    "            output = model(data)\n",
    "            test_loss += F.nll_loss(output, target, size_average=False).item() # sum up batch loss\n",
    "            pred = output.max(1, keepdim=True)[1] # get the index of the max log-probability\n",
    "            correct += pred.eq(target.view_as(pred)).sum().item()\n",
    "\n",
    "    test_loss /= len(testset_loader.dataset)\n",
    "    print('\\nTest set: Average loss: {:.4f}, Accuracy: {}/{} ({:.0f}%)\\n'.format(\n",
    "        test_loss, correct, len(testset_loader.dataset),\n",
    "        100. * correct / len(testset_loader.dataset)))"
   ]
  },
  {
   "cell_type": "code",
   "execution_count": 11,
   "metadata": {},
   "outputs": [
    {
     "name": "stdout",
     "output_type": "stream",
     "text": [
      "Train Epoch: 0 [0/60000 (0%)]\tLoss: 2.290950\n",
      "Train Epoch: 0 [6400/60000 (11%)]\tLoss: 2.294358\n",
      "Train Epoch: 0 [12800/60000 (21%)]\tLoss: 2.298410\n",
      "Train Epoch: 0 [19200/60000 (32%)]\tLoss: 2.272154\n",
      "Train Epoch: 0 [25600/60000 (43%)]\tLoss: 2.229497\n",
      "Train Epoch: 0 [32000/60000 (53%)]\tLoss: 2.086808\n",
      "Train Epoch: 0 [38400/60000 (64%)]\tLoss: 1.742590\n",
      "Train Epoch: 0 [44800/60000 (75%)]\tLoss: 1.559248\n",
      "Train Epoch: 0 [51200/60000 (85%)]\tLoss: 1.379451\n",
      "Train Epoch: 0 [57600/60000 (96%)]\tLoss: 1.202523\n",
      "\n",
      "Test set: Average loss: 0.7305, Accuracy: 8204/10000 (82%)\n",
      "\n",
      "Train Epoch: 1 [3968/60000 (7%)]\tLoss: 0.417024\n",
      "Train Epoch: 1 [10368/60000 (17%)]\tLoss: 0.444105\n",
      "Train Epoch: 1 [16768/60000 (28%)]\tLoss: 0.434971\n",
      "Train Epoch: 1 [23168/60000 (39%)]\tLoss: 0.406856\n",
      "Train Epoch: 1 [29568/60000 (49%)]\tLoss: 0.220148\n",
      "Train Epoch: 1 [35968/60000 (60%)]\tLoss: 0.376065\n",
      "Train Epoch: 1 [42368/60000 (71%)]\tLoss: 0.522922\n",
      "Train Epoch: 1 [48768/60000 (81%)]\tLoss: 0.287995\n",
      "Train Epoch: 1 [55168/60000 (92%)]\tLoss: 0.309027\n",
      "\n",
      "Test set: Average loss: 0.2434, Accuracy: 9282/10000 (93%)\n",
      "\n",
      "Train Epoch: 2 [1536/60000 (3%)]\tLoss: 0.226701\n",
      "Train Epoch: 2 [7936/60000 (13%)]\tLoss: 0.197116\n",
      "Train Epoch: 2 [14336/60000 (24%)]\tLoss: 0.135400\n",
      "Train Epoch: 2 [20736/60000 (35%)]\tLoss: 0.137766\n",
      "Train Epoch: 2 [27136/60000 (45%)]\tLoss: 0.279195\n",
      "Train Epoch: 2 [33536/60000 (56%)]\tLoss: 0.259984\n",
      "Train Epoch: 2 [39936/60000 (67%)]\tLoss: 0.245185\n",
      "Train Epoch: 2 [46336/60000 (77%)]\tLoss: 0.120517\n",
      "Train Epoch: 2 [52736/60000 (88%)]\tLoss: 0.157982\n",
      "Train Epoch: 2 [59136/60000 (99%)]\tLoss: 0.123538\n",
      "\n",
      "Test set: Average loss: 0.1569, Accuracy: 9522/10000 (95%)\n",
      "\n",
      "Train Epoch: 3 [5504/60000 (9%)]\tLoss: 0.235237\n",
      "Train Epoch: 3 [11904/60000 (20%)]\tLoss: 0.109923\n",
      "Train Epoch: 3 [18304/60000 (30%)]\tLoss: 0.120617\n",
      "Train Epoch: 3 [24704/60000 (41%)]\tLoss: 0.120856\n",
      "Train Epoch: 3 [31104/60000 (52%)]\tLoss: 0.072080\n",
      "Train Epoch: 3 [37504/60000 (62%)]\tLoss: 0.142526\n",
      "Train Epoch: 3 [43904/60000 (73%)]\tLoss: 0.094862\n",
      "Train Epoch: 3 [50304/60000 (84%)]\tLoss: 0.130825\n",
      "Train Epoch: 3 [56704/60000 (94%)]\tLoss: 0.147866\n",
      "\n",
      "Test set: Average loss: 0.1227, Accuracy: 9614/10000 (96%)\n",
      "\n",
      "Train Epoch: 4 [3072/60000 (5%)]\tLoss: 0.143228\n",
      "Train Epoch: 4 [9472/60000 (16%)]\tLoss: 0.262242\n",
      "Train Epoch: 4 [15872/60000 (26%)]\tLoss: 0.175969\n",
      "Train Epoch: 4 [22272/60000 (37%)]\tLoss: 0.053992\n",
      "Train Epoch: 4 [28672/60000 (48%)]\tLoss: 0.075355\n",
      "Train Epoch: 4 [35072/60000 (58%)]\tLoss: 0.077773\n",
      "Train Epoch: 4 [41472/60000 (69%)]\tLoss: 0.145158\n",
      "Train Epoch: 4 [47872/60000 (80%)]\tLoss: 0.151058\n",
      "Train Epoch: 4 [54272/60000 (90%)]\tLoss: 0.117142\n",
      "\n",
      "Test set: Average loss: 0.1007, Accuracy: 9692/10000 (97%)\n",
      "\n"
     ]
    }
   ],
   "source": [
    "train(5)  # train 5 epochs should get you to about 97% accuracy"
   ]
  },
  {
   "cell_type": "markdown",
   "metadata": {},
   "source": [
    "## 2. Save the model (model checkpointing)\n",
    "\n",
    "Now we have a model! Obviously we do not want to retrain the model everytime we want to use it. Plus if you are training a super big model, you probably want to save checkpoint periodically so that you can always fall back to the last checkpoint in case something bad happened or you simply want to test models at different training iterations.\n",
    "\n",
    "Model checkpointing is fairly simple in PyTorch. First, we define a helper function that can save a model to the disk"
   ]
  },
  {
   "cell_type": "code",
   "execution_count": 12,
   "metadata": {},
   "outputs": [],
   "source": [
    "def save_checkpoint(checkpoint_path, model, optimizer):\n",
    "    state = {'state_dict': model.state_dict(),\n",
    "             'optimizer' : optimizer.state_dict()}\n",
    "    print('model saved to %s' % checkpoint_path)\n",
    "    torch.save(state, checkpoint_path)\n",
    "    \n",
    "def load_checkpoint(checkpoint_path, model, optimizer):\n",
    "    state = torch.load(checkpoint_path)\n",
    "    model.load_state_dict(state['state_dict'])\n",
    "    optimizer.load_state_dict(state['optimizer'])\n",
    "    print('model loaded from %s' % checkpoint_path)"
   ]
  },
  {
   "cell_type": "code",
   "execution_count": 13,
   "metadata": {},
   "outputs": [
    {
     "name": "stdout",
     "output_type": "stream",
     "text": [
      "\n",
      "Test set: Average loss: 2.3022, Accuracy: 1069/10000 (11%)\n",
      "\n"
     ]
    }
   ],
   "source": [
    "# create a brand new model\n",
    "model = Net().to(device)\n",
    "optimizer = optim.SGD(model.parameters(), lr=0.001, momentum=0.9)\n",
    "test()"
   ]
  },
  {
   "cell_type": "markdown",
   "metadata": {},
   "source": [
    "### Define a training loop with model checkpointing"
   ]
  },
  {
   "cell_type": "code",
   "execution_count": 14,
   "metadata": {},
   "outputs": [],
   "source": [
    "def train_save(epoch, save_interval, log_interval=100):\n",
    "    model.train()  # set training mode\n",
    "    iteration = 0\n",
    "    for ep in range(epoch):\n",
    "        for batch_idx, (data, target) in enumerate(trainset_loader):\n",
    "            data, target = data.to(device), target.to(device)\n",
    "            optimizer.zero_grad()\n",
    "            output = model(data)\n",
    "            loss = F.nll_loss(output, target)\n",
    "            loss.backward()\n",
    "            optimizer.step()\n",
    "            if iteration % log_interval == 0:\n",
    "                print('Train Epoch: {} [{}/{} ({:.0f}%)]\\tLoss: {:.6f}'.format(\n",
    "                    ep, batch_idx * len(data), len(trainset_loader.dataset),\n",
    "                    100. * batch_idx / len(trainset_loader), loss.item()))\n",
    "            if iteration % save_interval == 0 and iteration > 0:\n",
    "                save_checkpoint('mnist-%i.pth' % iteration, model, optimizer)\n",
    "            iteration += 1\n",
    "        test()\n",
    "    \n",
    "    # save the final model\n",
    "    save_checkpoint('mnist-%i.pth' % iteration, model, optimizer)"
   ]
  },
  {
   "cell_type": "code",
   "execution_count": 15,
   "metadata": {},
   "outputs": [
    {
     "name": "stdout",
     "output_type": "stream",
     "text": [
      "Train Epoch: 0 [0/60000 (0%)]\tLoss: 2.301567\n",
      "Train Epoch: 0 [6400/60000 (11%)]\tLoss: 2.333944\n",
      "Train Epoch: 0 [12800/60000 (21%)]\tLoss: 2.270838\n",
      "Train Epoch: 0 [19200/60000 (32%)]\tLoss: 2.248368\n",
      "Train Epoch: 0 [25600/60000 (43%)]\tLoss: 2.208570\n",
      "Train Epoch: 0 [32000/60000 (53%)]\tLoss: 2.078393\n",
      "model saved to mnist-500.pth\n",
      "Train Epoch: 0 [38400/60000 (64%)]\tLoss: 1.730771\n",
      "Train Epoch: 0 [44800/60000 (75%)]\tLoss: 1.335364\n",
      "Train Epoch: 0 [51200/60000 (85%)]\tLoss: 1.132900\n",
      "Train Epoch: 0 [57600/60000 (96%)]\tLoss: 0.726782\n",
      "\n",
      "Test set: Average loss: 0.5782, Accuracy: 8607/10000 (86%)\n",
      "\n",
      "Train Epoch: 1 [3968/60000 (7%)]\tLoss: 0.512287\n",
      "model saved to mnist-1000.pth\n",
      "Train Epoch: 1 [10368/60000 (17%)]\tLoss: 0.301691\n",
      "Train Epoch: 1 [16768/60000 (28%)]\tLoss: 0.270334\n",
      "Train Epoch: 1 [23168/60000 (39%)]\tLoss: 0.347642\n",
      "Train Epoch: 1 [29568/60000 (49%)]\tLoss: 0.267741\n",
      "Train Epoch: 1 [35968/60000 (60%)]\tLoss: 0.457582\n",
      "model saved to mnist-1500.pth\n",
      "Train Epoch: 1 [42368/60000 (71%)]\tLoss: 0.169322\n",
      "Train Epoch: 1 [48768/60000 (81%)]\tLoss: 0.246874\n",
      "Train Epoch: 1 [55168/60000 (92%)]\tLoss: 0.323488\n",
      "\n",
      "Test set: Average loss: 0.2139, Accuracy: 9378/10000 (94%)\n",
      "\n",
      "Train Epoch: 2 [1536/60000 (3%)]\tLoss: 0.290717\n",
      "Train Epoch: 2 [7936/60000 (13%)]\tLoss: 0.160756\n",
      "model saved to mnist-2000.pth\n",
      "Train Epoch: 2 [14336/60000 (24%)]\tLoss: 0.180456\n",
      "Train Epoch: 2 [20736/60000 (35%)]\tLoss: 0.320911\n",
      "Train Epoch: 2 [27136/60000 (45%)]\tLoss: 0.173524\n",
      "Train Epoch: 2 [33536/60000 (56%)]\tLoss: 0.110307\n",
      "Train Epoch: 2 [39936/60000 (67%)]\tLoss: 0.160547\n",
      "model saved to mnist-2500.pth\n",
      "Train Epoch: 2 [46336/60000 (77%)]\tLoss: 0.178753\n",
      "Train Epoch: 2 [52736/60000 (88%)]\tLoss: 0.189876\n",
      "Train Epoch: 2 [59136/60000 (99%)]\tLoss: 0.199764\n",
      "\n",
      "Test set: Average loss: 0.1465, Accuracy: 9559/10000 (96%)\n",
      "\n",
      "Train Epoch: 3 [5504/60000 (9%)]\tLoss: 0.285542\n",
      "Train Epoch: 3 [11904/60000 (20%)]\tLoss: 0.164827\n",
      "model saved to mnist-3000.pth\n",
      "Train Epoch: 3 [18304/60000 (30%)]\tLoss: 0.212332\n",
      "Train Epoch: 3 [24704/60000 (41%)]\tLoss: 0.113199\n",
      "Train Epoch: 3 [31104/60000 (52%)]\tLoss: 0.119182\n",
      "Train Epoch: 3 [37504/60000 (62%)]\tLoss: 0.052507\n",
      "Train Epoch: 3 [43904/60000 (73%)]\tLoss: 0.168170\n",
      "model saved to mnist-3500.pth\n",
      "Train Epoch: 3 [50304/60000 (84%)]\tLoss: 0.172302\n",
      "Train Epoch: 3 [56704/60000 (94%)]\tLoss: 0.145289\n",
      "\n",
      "Test set: Average loss: 0.1101, Accuracy: 9670/10000 (97%)\n",
      "\n",
      "Train Epoch: 4 [3072/60000 (5%)]\tLoss: 0.198567\n",
      "Train Epoch: 4 [9472/60000 (16%)]\tLoss: 0.265659\n",
      "Train Epoch: 4 [15872/60000 (26%)]\tLoss: 0.205921\n",
      "model saved to mnist-4000.pth\n",
      "Train Epoch: 4 [22272/60000 (37%)]\tLoss: 0.084458\n",
      "Train Epoch: 4 [28672/60000 (48%)]\tLoss: 0.152782\n",
      "Train Epoch: 4 [35072/60000 (58%)]\tLoss: 0.060874\n",
      "Train Epoch: 4 [41472/60000 (69%)]\tLoss: 0.145450\n",
      "Train Epoch: 4 [47872/60000 (80%)]\tLoss: 0.364481\n",
      "model saved to mnist-4500.pth\n",
      "Train Epoch: 4 [54272/60000 (90%)]\tLoss: 0.070258\n",
      "\n",
      "Test set: Average loss: 0.0955, Accuracy: 9710/10000 (97%)\n",
      "\n",
      "model saved to mnist-4690.pth\n"
     ]
    }
   ],
   "source": [
    "train_save(5, 500, 100)"
   ]
  },
  {
   "cell_type": "code",
   "execution_count": 16,
   "metadata": {},
   "outputs": [
    {
     "name": "stdout",
     "output_type": "stream",
     "text": [
      "model loaded from mnist-4690.pth\n",
      "\n",
      "Test set: Average loss: 0.0955, Accuracy: 9710/10000 (97%)\n",
      "\n"
     ]
    }
   ],
   "source": [
    "# create a new model\n",
    "model = Net().to(device)\n",
    "optimizer = optim.SGD(model.parameters(), lr=0.001, momentum=0.9)\n",
    "# load from the final checkpoint\n",
    "load_checkpoint('mnist-4690.pth', model, optimizer)\n",
    "# should give you the final model accuracy\n",
    "test()"
   ]
  },
  {
   "cell_type": "markdown",
   "metadata": {},
   "source": [
    "## 3. Fine-tune a model\n",
    "\n",
    "Sometimes you want to fine-tune a pretrained model instead of training a model from scratch. For example, if you want to train a model on a new dataset that contains natural images. To achieve the best performance, you can start with a model that's fully trained on ImageNet and fine-tune the model.\n",
    "\n",
    "Finetuning a model in PyTorch is super easy! First, let's find out what we saved in a checkpoint"
   ]
  },
  {
   "cell_type": "code",
   "execution_count": 17,
   "metadata": {},
   "outputs": [
    {
     "name": "stdout",
     "output_type": "stream",
     "text": [
      "odict_keys(['conv1.weight', 'conv1.bias', 'conv2.weight', 'conv2.bias', 'fc1.weight', 'fc1.bias', 'fc2.weight', 'fc2.bias'])\n"
     ]
    }
   ],
   "source": [
    "# What's in a state dict?\n",
    "print(model.state_dict().keys())"
   ]
  },
  {
   "cell_type": "markdown",
   "metadata": {},
   "source": [
    "### Finetune the fc layers\n",
    "\n",
    "Now say we want to load the conv layers from the checkpoint and train the fc layers. We can simply load a subset of the state dict with the selected names"
   ]
  },
  {
   "cell_type": "code",
   "execution_count": 18,
   "metadata": {},
   "outputs": [],
   "source": [
    "checkpoint = torch.load('mnist-4690.pth')\n",
    "states_to_load = {}\n",
    "for name, param in checkpoint['state_dict'].items():\n",
    "    if name.startswith('conv'):\n",
    "        states_to_load[name] = param\n",
    "\n",
    "# Construct a new state dict in which the layers we want\n",
    "# to import from the checkpoint is update with the parameters\n",
    "# from the checkpoint\n",
    "model_state = model.state_dict()\n",
    "model_state.update(states_to_load)\n",
    "        \n",
    "model = Net().to(device)\n",
    "model.load_state_dict(model_state)\n",
    "optimizer = optim.SGD(model.parameters(), lr=0.001, momentum=0.9)"
   ]
  },
  {
   "cell_type": "code",
   "execution_count": 19,
   "metadata": {},
   "outputs": [
    {
     "name": "stdout",
     "output_type": "stream",
     "text": [
      "Train Epoch: 0 [0/60000 (0%)]\tLoss: 2.962080\n",
      "Train Epoch: 0 [6400/60000 (11%)]\tLoss: 0.561809\n",
      "Train Epoch: 0 [12800/60000 (21%)]\tLoss: 0.569970\n",
      "Train Epoch: 0 [19200/60000 (32%)]\tLoss: 0.490796\n",
      "Train Epoch: 0 [25600/60000 (43%)]\tLoss: 0.574419\n",
      "Train Epoch: 0 [32000/60000 (53%)]\tLoss: 0.505159\n",
      "Train Epoch: 0 [38400/60000 (64%)]\tLoss: 0.520351\n",
      "Train Epoch: 0 [44800/60000 (75%)]\tLoss: 0.530845\n",
      "Train Epoch: 0 [51200/60000 (85%)]\tLoss: 0.643340\n",
      "Train Epoch: 0 [57600/60000 (96%)]\tLoss: 0.400828\n",
      "\n",
      "Test set: Average loss: 0.1409, Accuracy: 9578/10000 (96%)\n",
      "\n"
     ]
    }
   ],
   "source": [
    "train(1)  # training 1 epoch will get you to 93%!"
   ]
  },
  {
   "cell_type": "markdown",
   "metadata": {},
   "source": [
    "### Import pretrained weights in a different model\n",
    "\n",
    "We can even use the pretrained conv layers in a different model."
   ]
  },
  {
   "cell_type": "code",
   "execution_count": 20,
   "metadata": {},
   "outputs": [],
   "source": [
    "class SmallNet(nn.Module):\n",
    "    def __init__(self):\n",
    "        super(SmallNet, self).__init__()\n",
    "        self.conv1 = nn.Conv2d(1, 10, kernel_size=5)\n",
    "        self.conv2 = nn.Conv2d(10, 20, kernel_size=5)\n",
    "        self.conv2_drop = nn.Dropout2d()\n",
    "        self.fc1 = nn.Linear(320, 10)\n",
    "\n",
    "    def forward(self, x):\n",
    "        x = F.relu(F.max_pool2d(self.conv1(x), 2))\n",
    "        x = F.relu(F.max_pool2d(self.conv2_drop(self.conv2(x)), 2))\n",
    "        x = x.view(-1, 320)\n",
    "        x = self.fc1(x)\n",
    "        return F.log_softmax(x, dim=1)\n",
    "\n",
    "model = SmallNet().to(device)\n",
    "optimizer = optim.SGD(model.parameters(), lr=0.001, momentum=0.9)"
   ]
  },
  {
   "cell_type": "code",
   "execution_count": 21,
   "metadata": {},
   "outputs": [],
   "source": [
    "checkpoint = torch.load('mnist-4690.pth')\n",
    "states_to_load = {}\n",
    "for name, param in checkpoint['state_dict'].items():\n",
    "    if name.startswith('conv'):\n",
    "        states_to_load[name] = param\n",
    "\n",
    "# Construct a new state dict in which the layers we want\n",
    "# to import from the checkpoint is update with the parameters\n",
    "# from the checkpoint\n",
    "model_state = model.state_dict()\n",
    "model_state.update(states_to_load)\n",
    "        \n",
    "model.load_state_dict(model_state)"
   ]
  },
  {
   "cell_type": "code",
   "execution_count": 22,
   "metadata": {},
   "outputs": [
    {
     "name": "stdout",
     "output_type": "stream",
     "text": [
      "Train Epoch: 0 [0/60000 (0%)]\tLoss: 4.797600\n",
      "Train Epoch: 0 [6400/60000 (11%)]\tLoss: 0.376066\n",
      "Train Epoch: 0 [12800/60000 (21%)]\tLoss: 0.329193\n",
      "Train Epoch: 0 [19200/60000 (32%)]\tLoss: 0.420344\n",
      "Train Epoch: 0 [25600/60000 (43%)]\tLoss: 0.297029\n",
      "Train Epoch: 0 [32000/60000 (53%)]\tLoss: 0.368674\n",
      "Train Epoch: 0 [38400/60000 (64%)]\tLoss: 0.149684\n",
      "Train Epoch: 0 [44800/60000 (75%)]\tLoss: 0.196233\n",
      "Train Epoch: 0 [51200/60000 (85%)]\tLoss: 0.245178\n",
      "Train Epoch: 0 [57600/60000 (96%)]\tLoss: 0.241748\n",
      "\n",
      "Test set: Average loss: 0.1503, Accuracy: 9578/10000 (96%)\n",
      "\n"
     ]
    }
   ],
   "source": [
    "train(1)  # training 1 epoch will get you to 93%!"
   ]
  },
  {
   "cell_type": "code",
   "execution_count": null,
   "metadata": {},
   "outputs": [],
   "source": []
  }
 ],
 "metadata": {
  "kernelspec": {
   "display_name": "Python 3",
   "language": "python",
   "name": "python3"
  },
  "language_info": {
   "codemirror_mode": {
    "name": "ipython",
    "version": 3
   },
   "file_extension": ".py",
   "mimetype": "text/x-python",
   "name": "python",
   "nbconvert_exporter": "python",
   "pygments_lexer": "ipython3",
   "version": "3.6.4"
  }
 },
 "nbformat": 4,
 "nbformat_minor": 1
}
